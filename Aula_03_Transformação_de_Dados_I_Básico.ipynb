{
  "nbformat": 4,
  "nbformat_minor": 0,
  "metadata": {
    "colab": {
      "name": "Aula 03 - Transformação de Dados I - Básico.ipynb",
      "provenance": [],
      "authorship_tag": "ABX9TyPw5NQ1VsLkhDiqcTSTFddN",
      "include_colab_link": true
    },
    "kernelspec": {
      "name": "python3",
      "display_name": "Python 3"
    }
  },
  "cells": [
    {
      "cell_type": "markdown",
      "metadata": {
        "id": "view-in-github",
        "colab_type": "text"
      },
      "source": [
        "<a href=\"https://colab.research.google.com/github/joaocbjr/Python_do_zero_ao_DS/blob/main/Aula_03_Transforma%C3%A7%C3%A3o_de_Dados_I_B%C3%A1sico.ipynb\" target=\"_parent\"><img src=\"https://colab.research.google.com/assets/colab-badge.svg\" alt=\"Open In Colab\"/></a>"
      ]
    },
    {
      "cell_type": "markdown",
      "metadata": {
        "id": "QxKAKe2D3t_Q"
      },
      "source": [
        "###Agenda:\r\n",
        "1. Novas perguntas de negócio.\r\n",
        "2. Planejamento da Solução.\r\n",
        "3. Estrutura de Dados.\r\n",
        "4. Transformação de Dados.\r\n",
        "5. Exercícios Práticos."
      ]
    },
    {
      "cell_type": "markdown",
      "metadata": {
        "id": "FWnBSYC14Ppu"
      },
      "source": [
        "###Novas perguntas de negócio."
      ]
    },
    {
      "cell_type": "markdown",
      "metadata": {
        "id": "dRnKXUP24ZKk"
      },
      "source": [
        "1. Qual o número de imóveis por ano de construção?\r\n",
        "2. Qual o menor número de quartos por ano de construção de imóveis?\r\n",
        "3. Qual o preço mais alto por cada número de quarto?\r\n",
        "4. Qual a soma de todos os preços de compra por número de quartos?\r\n",
        "5. Qual a soma de todos os preços de compra por número de quartos e banheiros?\r\n",
        "6. Qual o tamanho médio das salas dos imóveis por ano de construção?\r\n",
        "7. Qual o tamanho mediano das salas dos imóveis por ano de construção?\r\n",
        "8. Qual o desvio-padrão do tamanho das salas dos imóveis por ano de construção?\r\n",
        "9. Como é o crescimento médio de preços de compra dos imóveis, por ano, por dia e pela semana do ano?\r\n",
        "10. Eu gostaria de olhar no mapa e conseguir identificar as casas com maior preço."
      ]
    },
    {
      "cell_type": "markdown",
      "metadata": {
        "id": "10oWZtG66vxm"
      },
      "source": [
        "###Planejamento da solução:\r\n",
        "1. Produto Final (O que eu vou entregar? Planilha, gráfico, modelo de ML...)\r\n",
        "\r\n",
        "> Email + 2 anexos:\r\n",
        "\r\n",
        ">> Email: As respostas das perguntas.(Pergunta | Resposta)\r\n",
        "\r\n",
        ">> Anexo 01: Um dashboard com 3 gráficos.\r\n",
        "\r\n",
        ">> Anexo 02: Um mapa no formato HTML.\r\n",
        "\r\n",
        "2. Ferramenta (Qual ferramenta usar?)\r\n",
        "\r\n",
        ">Python 3.8.0\r\n",
        "\r\n",
        ">Google Colab\r\n",
        "\r\n",
        ">VS code\r\n",
        "\r\n",
        "3. Processo (Como fazer?)\r\n",
        "\r\n",
        ">1. Contar o número de ids por ano de construção.\r\n",
        "\r\n",
        ">2. Filtrar todos os imóveis por ano de construção e selecionar o menor número de quartos.\r\n",
        "\r\n",
        ">3. Filtrar todos os imóveis por número de quartos e selecionar o de maior preço.\r\n",
        "\r\n",
        ">4. Filtrar todos os imóveis por número de quartos e somar todos os preços.\r\n",
        "\r\n",
        ">5. Filtrar todos os imóveis por número de quartos e por número de banheiros e realizo a soma de todos os preços.\r\n",
        "\r\n",
        ">6. Filtrar todos os imóveis por ano de construção e fazer a médeia do tamanho das salas.\r\n",
        "\r\n",
        ">7. Filtar todos os imóveis por ano de construção e fazer a mediana das salas.\r\n",
        "\r\n",
        ">8. Filtrar todos os imóveis por ano de construção e fazer o desvio-padrão do tamanho das salas.\r\n",
        "\r\n",
        ">9. Filtrar todos os imóveis por ano e fazer um gráfico onde o eixo x eu tenha o ano e o eixo y a média do preço ano.\r\n",
        "\r\n",
        ">Estudar uma biblioteca que tenha alguma função que desenhe um gráfico de linhas.\r\n",
        "\r\n",
        ">10. Modificar o mapa de entrega da aula anterior fazendo que os pontos tenham o tamanho dependente do preço.\r\n",
        "\r\n",
        "\r\n"
      ]
    }
  ]
}