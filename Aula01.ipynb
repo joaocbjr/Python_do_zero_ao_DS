{
  "nbformat": 4,
  "nbformat_minor": 0,
  "metadata": {
    "colab": {
      "name": "Aula01.ipynb",
      "provenance": [],
      "mount_file_id": "1RkS1I2NtObfCa8Rl53xosk9mVn7HFlG5",
      "authorship_tag": "ABX9TyP6djW6TtIIjro3/nr1/3ZP",
      "include_colab_link": true
    },
    "kernelspec": {
      "name": "python3",
      "display_name": "Python 3"
    }
  },
  "cells": [
    {
      "cell_type": "markdown",
      "metadata": {
        "id": "view-in-github",
        "colab_type": "text"
      },
      "source": [
        "<a href=\"https://colab.research.google.com/github/joaocbjr/Python_do_zero_ao_DS/blob/main/Aula01.ipynb\" target=\"_parent\"><img src=\"https://colab.research.google.com/assets/colab-badge.svg\" alt=\"Open In Colab\"/></a>"
      ]
    },
    {
      "cell_type": "code",
      "metadata": {
        "id": "K8dw_HZxHZE4"
      },
      "source": [
        "import pandas as pd"
      ],
      "execution_count": null,
      "outputs": []
    },
    {
      "cell_type": "code",
      "metadata": {
        "colab": {
          "base_uri": "https://localhost:8080/"
        },
        "id": "7dOq-yXYIwoh",
        "outputId": "bcf10f4f-6fc1-4c7f-e914-551045927593"
      },
      "source": [
        "data = pd.read_csv('/kc_house_data.csv')\r\n",
        "print(data)"
      ],
      "execution_count": null,
      "outputs": [
        {
          "output_type": "stream",
          "text": [
            "               id             date  ...  sqft_living15  sqft_lot15\n",
            "0      7129300520  20141013T000000  ...           1340        5650\n",
            "1      6414100192  20141209T000000  ...           1690        7639\n",
            "2      5631500400  20150225T000000  ...           2720        8062\n",
            "3      2487200875  20141209T000000  ...           1360        5000\n",
            "4      1954400510  20150218T000000  ...           1800        7503\n",
            "...           ...              ...  ...            ...         ...\n",
            "21608   263000018  20140521T000000  ...           1530        1509\n",
            "21609  6600060120  20150223T000000  ...           1830        7200\n",
            "21610  1523300141  20140623T000000  ...           1020        2007\n",
            "21611   291310100  20150116T000000  ...           1410        1287\n",
            "21612  1523300157  20141015T000000  ...           1020        1357\n",
            "\n",
            "[21613 rows x 21 columns]\n"
          ],
          "name": "stdout"
        }
      ]
    },
    {
      "cell_type": "markdown",
      "metadata": {
        "id": "PkOwjQL4LNq1"
      },
      "source": [
        "###HEAD - Mostra as 05 primeiras linhas do conjunto de dados"
      ]
    },
    {
      "cell_type": "code",
      "metadata": {
        "colab": {
          "base_uri": "https://localhost:8080/"
        },
        "id": "D1usNX0OK0Q3",
        "outputId": "f83c8244-048d-4f4f-9dbb-602f45956091"
      },
      "source": [
        "print(data.head())"
      ],
      "execution_count": null,
      "outputs": [
        {
          "output_type": "stream",
          "text": [
            "           id             date     price  ...     long  sqft_living15  sqft_lot15\n",
            "0  7129300520  20141013T000000  221900.0  ... -122.257           1340        5650\n",
            "1  6414100192  20141209T000000  538000.0  ... -122.319           1690        7639\n",
            "2  5631500400  20150225T000000  180000.0  ... -122.233           2720        8062\n",
            "3  2487200875  20141209T000000  604000.0  ... -122.393           1360        5000\n",
            "4  1954400510  20150218T000000  510000.0  ... -122.045           1800        7503\n",
            "\n",
            "[5 rows x 21 columns]\n"
          ],
          "name": "stdout"
        }
      ]
    },
    {
      "cell_type": "markdown",
      "metadata": {
        "id": "AeiSZfe0LfdE"
      },
      "source": [
        ""
      ]
    },
    {
      "cell_type": "markdown",
      "metadata": {
        "id": "zypTnOmVLmNL"
      },
      "source": [
        "###SHAPE - Mostra o número de colunas e de linhas"
      ]
    },
    {
      "cell_type": "code",
      "metadata": {
        "colab": {
          "base_uri": "https://localhost:8080/"
        },
        "id": "7z_gunVYMDIn",
        "outputId": "0cd96789-7cc2-409c-9b12-4f0adccea0a5"
      },
      "source": [
        "print(data.shape)"
      ],
      "execution_count": null,
      "outputs": [
        {
          "output_type": "stream",
          "text": [
            "(21613, 21)\n"
          ],
          "name": "stdout"
        }
      ]
    },
    {
      "cell_type": "markdown",
      "metadata": {
        "id": "tYNWlShAMmqA"
      },
      "source": [
        "###COLUMNS - Mostra o nome das colunas"
      ]
    },
    {
      "cell_type": "code",
      "metadata": {
        "colab": {
          "base_uri": "https://localhost:8080/"
        },
        "id": "pFoSFGw_M2Ai",
        "outputId": "d65ee054-dfab-442a-fb49-659475561e85"
      },
      "source": [
        "print(data.columns)"
      ],
      "execution_count": null,
      "outputs": [
        {
          "output_type": "stream",
          "text": [
            "Index(['id', 'date', 'price', 'bedrooms', 'bathrooms', 'sqft_living',\n",
            "       'sqft_lot', 'floors', 'waterfront', 'view', 'condition', 'grade',\n",
            "       'sqft_above', 'sqft_basement', 'yr_built', 'yr_renovated', 'zipcode',\n",
            "       'lat', 'long', 'sqft_living15', 'sqft_lot15'],\n",
            "      dtype='object')\n"
          ],
          "name": "stdout"
        }
      ]
    },
    {
      "cell_type": "markdown",
      "metadata": {
        "id": "QBDY1taJNReA"
      },
      "source": [
        "### Mostra conjunto de dados ordenados por uma coluna (price)"
      ]
    },
    {
      "cell_type": "code",
      "metadata": {
        "colab": {
          "base_uri": "https://localhost:8080/"
        },
        "id": "aJShKnb7NN8v",
        "outputId": "86925e17-cbdc-491b-cf3c-84c7753ebbc1"
      },
      "source": [
        "print(data[['id', 'price']].sort_values('price'))"
      ],
      "execution_count": null,
      "outputs": [
        {
          "output_type": "stream",
          "text": [
            "               id      price\n",
            "1149   3421079032    75000.0\n",
            "15293    40000362    78000.0\n",
            "465    8658300340    80000.0\n",
            "16198  3028200080    81000.0\n",
            "8274   3883800011    82000.0\n",
            "...           ...        ...\n",
            "1448   8907500070  5350000.0\n",
            "4411   2470100110  5570000.0\n",
            "9254   9208900037  6885000.0\n",
            "3914   9808700762  7062500.0\n",
            "7252   6762700020  7700000.0\n",
            "\n",
            "[21613 rows x 2 columns]\n"
          ],
          "name": "stdout"
        }
      ]
    },
    {
      "cell_type": "markdown",
      "metadata": {
        "id": "tqYm_muROLlL"
      },
      "source": [
        "###Mostra conjunto de dados ordenado por uma coluna do maior para o menor (price)"
      ]
    },
    {
      "cell_type": "code",
      "metadata": {
        "colab": {
          "base_uri": "https://localhost:8080/"
        },
        "id": "OI4Vexd9M7SV",
        "outputId": "a1449f05-7541-460f-9228-3c78274139b8"
      },
      "source": [
        "print(data[['id', 'price']].sort_values('price', ascending=False))"
      ],
      "execution_count": null,
      "outputs": [
        {
          "output_type": "stream",
          "text": [
            "               id      price\n",
            "7252   6762700020  7700000.0\n",
            "3914   9808700762  7062500.0\n",
            "9254   9208900037  6885000.0\n",
            "4411   2470100110  5570000.0\n",
            "1448   8907500070  5350000.0\n",
            "...           ...        ...\n",
            "8274   3883800011    82000.0\n",
            "16198  3028200080    81000.0\n",
            "465    8658300340    80000.0\n",
            "15293    40000362    78000.0\n",
            "1149   3421079032    75000.0\n",
            "\n",
            "[21613 rows x 2 columns]\n"
          ],
          "name": "stdout"
        }
      ]
    },
    {
      "cell_type": "markdown",
      "metadata": {
        "id": "keeK-hEXO-uZ"
      },
      "source": [
        "#Exercício"
      ]
    },
    {
      "cell_type": "markdown",
      "metadata": {
        "id": "ANYMUNquPaDR"
      },
      "source": [
        "## Perguntas do CEO pra você:\r\n",
        "\r\n",
        "1.   Quantas casas estão disponíveis para compra?\r\n",
        "2.   Quantos atributos as casas possuem?\r\n",
        "3. Quais são os atributos das casas?\r\n",
        "4. Qual a casa mais cara (casa com maior valor de venda)?\r\n",
        "5. Qual a casa com o maior número de quartos?\r\n",
        "6. Qual a soma total de quartos do conjunto de dados?\r\n",
        "7. Quantas casas possuem 2 banheiros?\r\n",
        "8. Qual o preço médio de todas as casas do conjunto de dados?\r\n",
        "9. Qual o preço médio de casa de 2 banheiros?\r\n",
        "10. Qual o preço mínimo entre as casas com 3 quartos?\r\n",
        "11. Quantas casas possuem mais de 300 metros quadrados na sala de estar?\r\n",
        "12. Quantas casas tem mais de 2 andares?\r\n",
        "13. quantas casas tem vista para o mar?\r\n",
        "14. Das casas com vista pro mar, quantas tem 3 quartos?\r\n",
        "15. Das casas com mais de 300 metros quadrados de sala de estar, quantas tem 2 banheiros?\r\n",
        "\r\n"
      ]
    },
    {
      "cell_type": "markdown",
      "metadata": {
        "id": "fg5BSNjvVO5e"
      },
      "source": [
        "##Resolução"
      ]
    },
    {
      "cell_type": "markdown",
      "metadata": {
        "id": "7VhS4dYgY2Lq"
      },
      "source": [
        "1. Quantas casas estão disponíveis para compra?"
      ]
    },
    {
      "cell_type": "code",
      "metadata": {
        "colab": {
          "base_uri": "https://localhost:8080/"
        },
        "id": "Eim6M_XmPYtk",
        "outputId": "9c25a765-7507-40c7-bfd9-b07f53d3c72e"
      },
      "source": [
        "print(data.shape)\r\n",
        "print('R: 21.613 casas')"
      ],
      "execution_count": null,
      "outputs": [
        {
          "output_type": "stream",
          "text": [
            "(21613, 21)\n",
            "R: 21.613 casas\n"
          ],
          "name": "stdout"
        }
      ]
    },
    {
      "cell_type": "markdown",
      "metadata": {
        "id": "gegHBvmxanL9"
      },
      "source": [
        "2.   Quantos atributos as casas possuem?"
      ]
    },
    {
      "cell_type": "code",
      "metadata": {
        "colab": {
          "base_uri": "https://localhost:8080/"
        },
        "id": "E1ScopJiatfd",
        "outputId": "596a57bc-78f0-4623-f63a-188952265905"
      },
      "source": [
        "print(data.columns)\r\n",
        "print('R: 11 atributos')"
      ],
      "execution_count": null,
      "outputs": [
        {
          "output_type": "stream",
          "text": [
            "Index(['id', 'date', 'price', 'bedrooms', 'bathrooms', 'sqft_living',\n",
            "       'sqft_lot', 'floors', 'waterfront', 'view', 'condition', 'grade',\n",
            "       'sqft_above', 'sqft_basement', 'yr_built', 'yr_renovated', 'zipcode',\n",
            "       'lat', 'long', 'sqft_living15', 'sqft_lot15'],\n",
            "      dtype='object')\n",
            "R: 11 atributos\n"
          ],
          "name": "stdout"
        }
      ]
    },
    {
      "cell_type": "markdown",
      "metadata": {
        "id": "QK_H6EjKdzty"
      },
      "source": [
        "3. Quais são os atributos das casas?"
      ]
    },
    {
      "cell_type": "code",
      "metadata": {
        "colab": {
          "base_uri": "https://localhost:8080/"
        },
        "id": "bClyHeoPd2Z5",
        "outputId": "1700bbb3-106c-42ae-f25a-8466ab92d082"
      },
      "source": [
        "print('R: bedrooms, bathrooms, sqft_living, sqft_lot, floors, waterfront, view, condition, grade, sqft_above, sqft_basement')"
      ],
      "execution_count": null,
      "outputs": [
        {
          "output_type": "stream",
          "text": [
            "R: bedrooms, bathrooms, sqft_living, sqft_lot, floors, waterfront, view, condition, grade, sqft_above, sqft_basement\n"
          ],
          "name": "stdout"
        }
      ]
    },
    {
      "cell_type": "markdown",
      "metadata": {
        "id": "hwFazPwefJ6-"
      },
      "source": [
        "4. Qual a casa mais cara (casa com maior valor de venda)?"
      ]
    },
    {
      "cell_type": "code",
      "metadata": {
        "colab": {
          "base_uri": "https://localhost:8080/"
        },
        "id": "9cRvVH30fPAa",
        "outputId": "7432d3cc-05ea-4cbb-b743-54a89edde9df"
      },
      "source": [
        "print(data[['id', 'price']].sort_values('price', ascending=False))\r\n",
        "print('R: Casa de ID 6762700020, com o valor de US$ 7.700.000')"
      ],
      "execution_count": null,
      "outputs": [
        {
          "output_type": "stream",
          "text": [
            "               id      price\n",
            "7252   6762700020  7700000.0\n",
            "3914   9808700762  7062500.0\n",
            "9254   9208900037  6885000.0\n",
            "4411   2470100110  5570000.0\n",
            "1448   8907500070  5350000.0\n",
            "...           ...        ...\n",
            "8274   3883800011    82000.0\n",
            "16198  3028200080    81000.0\n",
            "465    8658300340    80000.0\n",
            "15293    40000362    78000.0\n",
            "1149   3421079032    75000.0\n",
            "\n",
            "[21613 rows x 2 columns]\n",
            "R: Casa de ID 6762700020, com o valor de US$ 7.700.000\n"
          ],
          "name": "stdout"
        }
      ]
    },
    {
      "cell_type": "markdown",
      "metadata": {
        "id": "wamJhYAnilUE"
      },
      "source": [
        "5. Qual a casa com o maior número de quartos?"
      ]
    },
    {
      "cell_type": "code",
      "metadata": {
        "colab": {
          "base_uri": "https://localhost:8080/"
        },
        "id": "WDjEsk39ita9",
        "outputId": "81acc43e-b6fb-46a3-8527-0e9082c55bf4"
      },
      "source": [
        "print(data[['id', 'bedrooms']].sort_values('bedrooms', ascending=False))\r\n",
        "print('R: Casa de ID 2402100895, com 33 quartos')"
      ],
      "execution_count": null,
      "outputs": [
        {
          "output_type": "stream",
          "text": [
            "               id  bedrooms\n",
            "15870  2402100895        33\n",
            "8757   1773100755        11\n",
            "15161  5566100170        10\n",
            "13314   627300145        10\n",
            "19254  8812401450        10\n",
            "...           ...       ...\n",
            "19452  3980300371         0\n",
            "8484   2310060040         0\n",
            "875    6306400140         0\n",
            "8477   2569500210         0\n",
            "9773   3374500520         0\n",
            "\n",
            "[21613 rows x 2 columns]\n",
            "R: Casa de ID 2402100895, com 33 quartos\n"
          ],
          "name": "stdout"
        }
      ]
    },
    {
      "cell_type": "markdown",
      "metadata": {
        "id": "_XdeG8KhjgTh"
      },
      "source": [
        "6. Qual a soma total de quartos do conjunto de dados?"
      ]
    },
    {
      "cell_type": "code",
      "metadata": {
        "colab": {
          "base_uri": "https://localhost:8080/"
        },
        "id": "GzwwrWP7jkYf",
        "outputId": "efc28c4b-0202-4670-afd1-7bce342d925e"
      },
      "source": [
        "soma_quarto = data['bedrooms'].sum()\r\n",
        "print('R: A soma dos quartos dos imóveis é',soma_quarto)"
      ],
      "execution_count": null,
      "outputs": [
        {
          "output_type": "stream",
          "text": [
            "R: A soma dos quartos dos imóveis é 72854\n"
          ],
          "name": "stdout"
        }
      ]
    },
    {
      "cell_type": "markdown",
      "metadata": {
        "id": "p2PEYo2woMAS"
      },
      "source": [
        "7. Quantas casas possuem 2 banheiros?"
      ]
    },
    {
      "cell_type": "code",
      "metadata": {
        "id": "TFWJMy3GoSyZ"
      },
      "source": [
        ""
      ],
      "execution_count": null,
      "outputs": []
    }
  ]
}