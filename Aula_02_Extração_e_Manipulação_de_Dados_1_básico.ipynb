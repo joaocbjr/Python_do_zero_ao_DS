{
  "nbformat": 4,
  "nbformat_minor": 0,
  "metadata": {
    "colab": {
      "name": "Aula 02 -  Extração e Manipulação de Dados 1 - básico.ipynb",
      "provenance": [],
      "authorship_tag": "ABX9TyNfLKodezqUifpH32e2a037",
      "include_colab_link": true
    },
    "kernelspec": {
      "name": "python3",
      "display_name": "Python 3"
    }
  },
  "cells": [
    {
      "cell_type": "markdown",
      "metadata": {
        "id": "view-in-github",
        "colab_type": "text"
      },
      "source": [
        "<a href=\"https://colab.research.google.com/github/joaocbjr/Python_do_zero_ao_DS/blob/main/Aula_02_Extra%C3%A7%C3%A3o_e_Manipula%C3%A7%C3%A3o_de_Dados_1_b%C3%A1sico.ipynb\" target=\"_parent\"><img src=\"https://colab.research.google.com/assets/colab-badge.svg\" alt=\"Open In Colab\"/></a>"
      ]
    },
    {
      "cell_type": "markdown",
      "metadata": {
        "id": "QvWgBmx_VMAt"
      },
      "source": [
        "###Novas perguntas do CEO:\r\n",
        "\r\n",
        "16. Qual a data do imóvel mais antigo no portifólio?\r\n",
        "17. Quantos imóveis possuem o número máximo de andares?\r\n",
        "18. Criar uma classificação para os imóveis, separando-os em baixo e alto padrão, de acordo com preço.\r\n",
        "\r\n",
        "* Acima de RS 540.000 -> Alto padrão\r\n",
        "* Abaixo de R$ 540.000 -> Baixo padrão\r\n",
        "\r\n",
        "19. Gostaria de um relatório ordenado pelo preço e contendo as seguintes informações:\r\n",
        "\r\n",
        "* ID do imóvel\r\n",
        "* Data que o imóvel ficou disponível pra compra\r\n",
        "* O número de quartos\r\n",
        "* O tamanho total do terreno\r\n",
        "* O preço\r\n",
        "* A classificação do imóvel (alto e baixo padrão)\r\n",
        "\r\n",
        "20. Gostaria de um Mapa indicando onde as casas estão localizadas geograficamente.\r\n",
        "\r\n"
      ]
    },
    {
      "cell_type": "markdown",
      "metadata": {
        "id": "YmeJqOswcTRl"
      },
      "source": [
        "###Planejamento da solução:\r\n",
        "1. Produto Final - O que entregar? (Planilha, email, gráfico, modelo de ML...)\r\n",
        "*** Email + 02 anexos ***\r\n",
        "  * Email: \r\n",
        "    * Texto: Perguntas | Respostas\r\n",
        "  * Anexo:\r\n",
        "    * Um relatório em .csv\r\n",
        "    * A foto de um mapa em HTML\r\n",
        "\r\n",
        "2. Ferramenta - qual ferramenta usar?\r\n",
        "  * Python 3\r\n",
        "  * \r\n",
        "3. Processo - Como fazer?"
      ]
    },
    {
      "cell_type": "markdown",
      "metadata": {
        "id": "mS-aRu6KojV8"
      },
      "source": [
        "## Indentificar os tipos de variáveis - *dtypes*:\r\n"
      ]
    },
    {
      "cell_type": "code",
      "metadata": {
        "id": "EUQDSEvvq03z"
      },
      "source": [
        "import pandas as pd"
      ],
      "execution_count": 1,
      "outputs": []
    },
    {
      "cell_type": "code",
      "metadata": {
        "id": "bRa6NaQWrTLZ"
      },
      "source": [
        "data = pd.read_csv('/content/kc_house_data.csv')"
      ],
      "execution_count": 2,
      "outputs": []
    },
    {
      "cell_type": "markdown",
      "metadata": {
        "id": "e2uhNu2wsPTO"
      },
      "source": [
        "###Mosta na tela os tipos de variáveis em cada coluna"
      ]
    },
    {
      "cell_type": "code",
      "metadata": {
        "colab": {
          "base_uri": "https://localhost:8080/"
        },
        "id": "nUKV4f4msd21",
        "outputId": "7ea8769a-7fdd-4a1a-e468-374ba0d78cf6"
      },
      "source": [
        "print(data.dtypes)"
      ],
      "execution_count": 4,
      "outputs": [
        {
          "output_type": "stream",
          "text": [
            "id                 int64\n",
            "date              object\n",
            "price            float64\n",
            "bedrooms           int64\n",
            "bathrooms        float64\n",
            "sqft_living        int64\n",
            "sqft_lot           int64\n",
            "floors           float64\n",
            "waterfront         int64\n",
            "view               int64\n",
            "condition          int64\n",
            "grade              int64\n",
            "sqft_above         int64\n",
            "sqft_basement      int64\n",
            "yr_built           int64\n",
            "yr_renovated       int64\n",
            "zipcode            int64\n",
            "lat              float64\n",
            "long             float64\n",
            "sqft_living15      int64\n",
            "sqft_lot15         int64\n",
            "dtype: object\n"
          ],
          "name": "stdout"
        }
      ]
    },
    {
      "cell_type": "markdown",
      "metadata": {
        "id": "W2ZSgf3pssIF"
      },
      "source": [
        "###Função que converte de \"object\" (string) -> date"
      ]
    },
    {
      "cell_type": "code",
      "metadata": {
        "id": "Mhs_C-5ItBWz"
      },
      "source": [
        "data['date'] = pd.to_datetime(data['date'])"
      ],
      "execution_count": 5,
      "outputs": []
    },
    {
      "cell_type": "code",
      "metadata": {
        "colab": {
          "base_uri": "https://localhost:8080/"
        },
        "id": "QkQnw4KitgAa",
        "outputId": "d7511834-2991-4e1e-eaee-f3e3499a7db7"
      },
      "source": [
        "print(data.dtypes)"
      ],
      "execution_count": 16,
      "outputs": [
        {
          "output_type": "stream",
          "text": [
            "id                        int64\n",
            "date             datetime64[ns]\n",
            "price                   float64\n",
            "bedrooms                  int64\n",
            "bathrooms               float64\n",
            "sqft_living               int64\n",
            "sqft_lot                  int64\n",
            "floors                  float64\n",
            "waterfront                int64\n",
            "view                      int64\n",
            "condition                 int64\n",
            "grade                     int64\n",
            "sqft_above                int64\n",
            "sqft_basement             int64\n",
            "yr_built                  int64\n",
            "yr_renovated              int64\n",
            "zipcode                   int64\n",
            "lat                     float64\n",
            "long                    float64\n",
            "sqft_living15             int64\n",
            "sqft_lot15                int64\n",
            "dtype: object\n"
          ],
          "name": "stdout"
        }
      ]
    },
    {
      "cell_type": "markdown",
      "metadata": {
        "id": "JjLx3VqDtteL"
      },
      "source": [
        "___\r\n",
        "##Converter os tipos de variáveis\r\n",
        "___"
      ]
    },
    {
      "cell_type": "code",
      "metadata": {
        "id": "1YL-jXjCvMsN"
      },
      "source": [
        "# INTEIRO -> FLOAT\r\n",
        "data['bedrooms'] = data['bedrooms'].astype(float)"
      ],
      "execution_count": 7,
      "outputs": []
    },
    {
      "cell_type": "code",
      "metadata": {
        "id": "NSR1EGYRwFw6"
      },
      "source": [
        "# FLOAT -> INTEIRO\r\n",
        "data['bedrooms'] = data['bedrooms'].astype(int)"
      ],
      "execution_count": 9,
      "outputs": []
    },
    {
      "cell_type": "code",
      "metadata": {
        "id": "JCWjXKKawbyx"
      },
      "source": [
        "# INTEIRO -> STRING\r\n",
        "data['bedrooms'] = data['bedrooms'].astype(str)"
      ],
      "execution_count": 12,
      "outputs": []
    },
    {
      "cell_type": "code",
      "metadata": {
        "id": "8MiZrOIPw35f"
      },
      "source": [
        "# STRING -> INTEIRO\r\n",
        "data['bedrooms'] = data['bedrooms'].astype(int)"
      ],
      "execution_count": 15,
      "outputs": []
    }
  ]
}