{
  "nbformat": 4,
  "nbformat_minor": 0,
  "metadata": {
    "colab": {
      "name": "Aula 02 -  Extração e Manipulação de Dados 1 - básico.ipynb",
      "provenance": [],
      "authorship_tag": "ABX9TyOonW60XCAwGLDbRLAFsVeH",
      "include_colab_link": true
    },
    "kernelspec": {
      "name": "python3",
      "display_name": "Python 3"
    }
  },
  "cells": [
    {
      "cell_type": "markdown",
      "metadata": {
        "id": "view-in-github",
        "colab_type": "text"
      },
      "source": [
        "<a href=\"https://colab.research.google.com/github/joaocbjr/Python_do_zero_ao_DS/blob/main/Aula_02_Extra%C3%A7%C3%A3o_e_Manipula%C3%A7%C3%A3o_de_Dados_1_b%C3%A1sico.ipynb\" target=\"_parent\"><img src=\"https://colab.research.google.com/assets/colab-badge.svg\" alt=\"Open In Colab\"/></a>"
      ]
    },
    {
      "cell_type": "markdown",
      "metadata": {
        "id": "QvWgBmx_VMAt"
      },
      "source": [
        "###Novas perguntas do CEO:\r\n",
        "\r\n",
        "16. Qual a data do imóvel mais antigo no portifólio?\r\n",
        "17. Quantos imóveis possuem o número máximo de andares?\r\n",
        "18. Criar uma classificação para os imóveis, separando-os em baixo e alto padrão, de acordo com preço.\r\n",
        "\r\n",
        "* Acima de RS 540.000 -> Alto padrão\r\n",
        "* Abaixo de R$ 540.000 -> Baixo padrão\r\n",
        "\r\n",
        "19. Gostaria de um relatório ordenado pelo preço e contendo as seguintes informações:\r\n",
        "\r\n",
        "* ID do imóvel\r\n",
        "* Data que o imóvel ficou disponível pra compra\r\n",
        "* O número de quartos\r\n",
        "* O tamanho total do terreno\r\n",
        "* O preço\r\n",
        "* A classificação do imóvel (alto e baixo padrão)\r\n",
        "\r\n",
        "20. Gostaria de um Mapa indicando onde as casas estão localizadas geograficamente.\r\n",
        "\r\n"
      ]
    },
    {
      "cell_type": "markdown",
      "metadata": {
        "id": "YmeJqOswcTRl"
      },
      "source": [
        "###Planejamento da solução:\r\n",
        "1. Produto Final - O que entregar? (Planilha, email, gráfico, modelo de ML...)\r\n",
        "*** Email + 02 anexos ***\r\n",
        "  * Email: \r\n",
        "    * Texto: Perguntas | Respostas\r\n",
        "  * Anexo:\r\n",
        "    * Um relatório em .csv\r\n",
        "    * A foto de um mapa em HTML\r\n",
        "\r\n",
        "2. Ferramenta - qual ferramenta usar?\r\n",
        "  * Python 3\r\n",
        "  * \r\n",
        "3. Processo - Como fazer?"
      ]
    },
    {
      "cell_type": "markdown",
      "metadata": {
        "id": "mS-aRu6KojV8"
      },
      "source": [
        "## Indentificar os tipos de variáveis - *dtypes*:\r\n"
      ]
    },
    {
      "cell_type": "code",
      "metadata": {
        "id": "EUQDSEvvq03z"
      },
      "source": [
        "import pandas as pd"
      ],
      "execution_count": 54,
      "outputs": []
    },
    {
      "cell_type": "code",
      "metadata": {
        "id": "bRa6NaQWrTLZ"
      },
      "source": [
        "data = pd.read_csv('/content/kc_house_data.csv')"
      ],
      "execution_count": 55,
      "outputs": []
    },
    {
      "cell_type": "markdown",
      "metadata": {
        "id": "e2uhNu2wsPTO"
      },
      "source": [
        "###Mosta na tela os tipos de variáveis em cada coluna"
      ]
    },
    {
      "cell_type": "code",
      "metadata": {
        "colab": {
          "base_uri": "https://localhost:8080/"
        },
        "id": "nUKV4f4msd21",
        "outputId": "4f533172-e728-4bf5-8b3f-537f508503ec"
      },
      "source": [
        "print(data.dtypes)"
      ],
      "execution_count": 56,
      "outputs": [
        {
          "output_type": "stream",
          "text": [
            "id                 int64\n",
            "date              object\n",
            "price            float64\n",
            "bedrooms           int64\n",
            "bathrooms        float64\n",
            "sqft_living        int64\n",
            "sqft_lot           int64\n",
            "floors           float64\n",
            "waterfront         int64\n",
            "view               int64\n",
            "condition          int64\n",
            "grade              int64\n",
            "sqft_above         int64\n",
            "sqft_basement      int64\n",
            "yr_built           int64\n",
            "yr_renovated       int64\n",
            "zipcode            int64\n",
            "lat              float64\n",
            "long             float64\n",
            "sqft_living15      int64\n",
            "sqft_lot15         int64\n",
            "dtype: object\n"
          ],
          "name": "stdout"
        }
      ]
    },
    {
      "cell_type": "markdown",
      "metadata": {
        "id": "W2ZSgf3pssIF"
      },
      "source": [
        "###Função que converte de \"object\" (string) -> date"
      ]
    },
    {
      "cell_type": "code",
      "metadata": {
        "id": "Mhs_C-5ItBWz"
      },
      "source": [
        "data['date'] = pd.to_datetime(data['date'])"
      ],
      "execution_count": 57,
      "outputs": []
    },
    {
      "cell_type": "code",
      "metadata": {
        "colab": {
          "base_uri": "https://localhost:8080/"
        },
        "id": "QkQnw4KitgAa",
        "outputId": "923e5e44-dfdf-4035-864a-0bc9d552f1aa"
      },
      "source": [
        "print(data.dtypes)"
      ],
      "execution_count": 58,
      "outputs": [
        {
          "output_type": "stream",
          "text": [
            "id                        int64\n",
            "date             datetime64[ns]\n",
            "price                   float64\n",
            "bedrooms                  int64\n",
            "bathrooms               float64\n",
            "sqft_living               int64\n",
            "sqft_lot                  int64\n",
            "floors                  float64\n",
            "waterfront                int64\n",
            "view                      int64\n",
            "condition                 int64\n",
            "grade                     int64\n",
            "sqft_above                int64\n",
            "sqft_basement             int64\n",
            "yr_built                  int64\n",
            "yr_renovated              int64\n",
            "zipcode                   int64\n",
            "lat                     float64\n",
            "long                    float64\n",
            "sqft_living15             int64\n",
            "sqft_lot15                int64\n",
            "dtype: object\n"
          ],
          "name": "stdout"
        }
      ]
    },
    {
      "cell_type": "markdown",
      "metadata": {
        "id": "JjLx3VqDtteL"
      },
      "source": [
        "___\r\n",
        "##Converter os tipos de variáveis\r\n",
        "___"
      ]
    },
    {
      "cell_type": "code",
      "metadata": {
        "id": "1YL-jXjCvMsN"
      },
      "source": [
        "# INTEIRO -> FLOAT\r\n",
        "data['bedrooms'] = data['bedrooms'].astype(float)"
      ],
      "execution_count": null,
      "outputs": []
    },
    {
      "cell_type": "code",
      "metadata": {
        "id": "NSR1EGYRwFw6"
      },
      "source": [
        "# FLOAT -> INTEIRO\r\n",
        "data['bedrooms'] = data['bedrooms'].astype(int)"
      ],
      "execution_count": null,
      "outputs": []
    },
    {
      "cell_type": "code",
      "metadata": {
        "id": "JCWjXKKawbyx"
      },
      "source": [
        "# INTEIRO -> STRING\r\n",
        "data['bedrooms'] = data['bedrooms'].astype(str)"
      ],
      "execution_count": null,
      "outputs": []
    },
    {
      "cell_type": "code",
      "metadata": {
        "id": "8MiZrOIPw35f"
      },
      "source": [
        "# STRING -> INTEIRO\r\n",
        "data['bedrooms'] = data['bedrooms'].astype(int)"
      ],
      "execution_count": null,
      "outputs": []
    },
    {
      "cell_type": "markdown",
      "metadata": {
        "id": "UBalfggs70Km"
      },
      "source": [
        "----\r\n",
        "#Manipulando as Variáveis\r\n",
        "---\r\n",
        "* Criar (colunas de variáveis e novas linhas)\r\n",
        "* Deletar (colunas de variáveis e novas linhas)\r\n",
        "* Selecionar:\r\n",
        "  1. Direto pelo nome das colunas.\r\n",
        "  2. Pelos índices das colunas.\r\n",
        "  3. Pelos índices das linhas e pelo nome das colunas.\r\n",
        "  4. Pelos ìndices booleanos."
      ]
    },
    {
      "cell_type": "markdown",
      "metadata": {
        "id": "sXfsqBUbyaNj"
      },
      "source": [
        "___\r\n",
        "##Criando novas variáveis\r\n",
        "___"
      ]
    },
    {
      "cell_type": "code",
      "metadata": {
        "id": "37YFndJvyp8T",
        "colab": {
          "base_uri": "https://localhost:8080/"
        },
        "outputId": "fa8fa8a6-e7ab-4b7b-b901-3af95f429fb6"
      },
      "source": [
        "data['Linguagem'] = 'Python'\r\n",
        "print(data.columns)"
      ],
      "execution_count": 59,
      "outputs": [
        {
          "output_type": "stream",
          "text": [
            "Index(['id', 'date', 'price', 'bedrooms', 'bathrooms', 'sqft_living',\n",
            "       'sqft_lot', 'floors', 'waterfront', 'view', 'condition', 'grade',\n",
            "       'sqft_above', 'sqft_basement', 'yr_built', 'yr_renovated', 'zipcode',\n",
            "       'lat', 'long', 'sqft_living15', 'sqft_lot15', 'Linguagem'],\n",
            "      dtype='object')\n"
          ],
          "name": "stdout"
        }
      ]
    },
    {
      "cell_type": "code",
      "metadata": {
        "colab": {
          "base_uri": "https://localhost:8080/"
        },
        "id": "NQDqhVbKza_3",
        "outputId": "b18eda6a-6e9a-4d4f-b651-eaa8d982f395"
      },
      "source": [
        "print(data[['id', 'date', 'Linguagem']])"
      ],
      "execution_count": 39,
      "outputs": [
        {
          "output_type": "stream",
          "text": [
            "               id             date Linguagem\n",
            "0      7129300520  20141013T000000    Python\n",
            "1      6414100192  20141209T000000    Python\n",
            "2      5631500400  20150225T000000    Python\n",
            "3      2487200875  20141209T000000    Python\n",
            "4      1954400510  20150218T000000    Python\n",
            "...           ...              ...       ...\n",
            "21608   263000018  20140521T000000    Python\n",
            "21609  6600060120  20150223T000000    Python\n",
            "21610  1523300141  20140623T000000    Python\n",
            "21611   291310100  20150116T000000    Python\n",
            "21612  1523300157  20141015T000000    Python\n",
            "\n",
            "[21613 rows x 3 columns]\n"
          ],
          "name": "stdout"
        }
      ]
    },
    {
      "cell_type": "markdown",
      "metadata": {
        "id": "q2B2VXFD0p0j"
      },
      "source": [
        "---\r\n",
        "##Deletar variáveis\r\n",
        "---"
      ]
    },
    {
      "cell_type": "code",
      "metadata": {
        "id": "9OuV1fel1BJ6",
        "colab": {
          "base_uri": "https://localhost:8080/"
        },
        "outputId": "42b73d69-6dd4-4da4-dd45-235365696189"
      },
      "source": [
        "print(data.columns)\r\n",
        "data = data.drop(['Linguagem'], axis=1)\r\n",
        "print(data.columns)"
      ],
      "execution_count": 60,
      "outputs": [
        {
          "output_type": "stream",
          "text": [
            "Index(['id', 'date', 'price', 'bedrooms', 'bathrooms', 'sqft_living',\n",
            "       'sqft_lot', 'floors', 'waterfront', 'view', 'condition', 'grade',\n",
            "       'sqft_above', 'sqft_basement', 'yr_built', 'yr_renovated', 'zipcode',\n",
            "       'lat', 'long', 'sqft_living15', 'sqft_lot15', 'Linguagem'],\n",
            "      dtype='object')\n",
            "Index(['id', 'date', 'price', 'bedrooms', 'bathrooms', 'sqft_living',\n",
            "       'sqft_lot', 'floors', 'waterfront', 'view', 'condition', 'grade',\n",
            "       'sqft_above', 'sqft_basement', 'yr_built', 'yr_renovated', 'zipcode',\n",
            "       'lat', 'long', 'sqft_living15', 'sqft_lot15'],\n",
            "      dtype='object')\n"
          ],
          "name": "stdout"
        }
      ]
    },
    {
      "cell_type": "markdown",
      "metadata": {
        "id": "ft4QJn5gFedY"
      },
      "source": [
        "---\r\n",
        "##Seleção de dados - Direto pelo nome das colunas.\r\n",
        "---"
      ]
    },
    {
      "cell_type": "code",
      "metadata": {
        "colab": {
          "base_uri": "https://localhost:8080/"
        },
        "id": "iBK3EDL5LbVU",
        "outputId": "0f41c681-a2e1-4ca8-99f3-cf7941b086c7"
      },
      "source": [
        "print(data[['price', 'id', 'date']])"
      ],
      "execution_count": 63,
      "outputs": [
        {
          "output_type": "stream",
          "text": [
            "          price          id       date\n",
            "0      221900.0  7129300520 2014-10-13\n",
            "1      538000.0  6414100192 2014-12-09\n",
            "2      180000.0  5631500400 2015-02-25\n",
            "3      604000.0  2487200875 2014-12-09\n",
            "4      510000.0  1954400510 2015-02-18\n",
            "...         ...         ...        ...\n",
            "21608  360000.0   263000018 2014-05-21\n",
            "21609  400000.0  6600060120 2015-02-23\n",
            "21610  402101.0  1523300141 2014-06-23\n",
            "21611  400000.0   291310100 2015-01-16\n",
            "21612  325000.0  1523300157 2014-10-15\n",
            "\n",
            "[21613 rows x 3 columns]\n"
          ],
          "name": "stdout"
        }
      ]
    },
    {
      "cell_type": "markdown",
      "metadata": {
        "id": "UQ7OXEMNMMkw"
      },
      "source": [
        "---\r\n",
        "##Seleção de dados - Pelos índices das colunas - *iloc*.\r\n",
        "---"
      ]
    },
    {
      "cell_type": "code",
      "metadata": {
        "colab": {
          "base_uri": "https://localhost:8080/"
        },
        "id": "8tl7YHnRM0il",
        "outputId": "eba5e29b-4af5-4b80-9045-87d12eeecc51"
      },
      "source": [
        "# DADOS[linhas, colunas]\r\n",
        "print(data.iloc[0:10, 0:3])"
      ],
      "execution_count": 64,
      "outputs": [
        {
          "output_type": "stream",
          "text": [
            "           id       date      price\n",
            "0  7129300520 2014-10-13   221900.0\n",
            "1  6414100192 2014-12-09   538000.0\n",
            "2  5631500400 2015-02-25   180000.0\n",
            "3  2487200875 2014-12-09   604000.0\n",
            "4  1954400510 2015-02-18   510000.0\n",
            "5  7237550310 2014-05-12  1225000.0\n",
            "6  1321400060 2014-06-27   257500.0\n",
            "7  2008000270 2015-01-15   291850.0\n",
            "8  2414600126 2015-04-15   229500.0\n",
            "9  3793500160 2015-03-12   323000.0\n"
          ],
          "name": "stdout"
        }
      ]
    },
    {
      "cell_type": "markdown",
      "metadata": {
        "id": "MqjS6T7fR5oW"
      },
      "source": [
        "---\r\n",
        "##Seleção de dados - Pelos índices e nome das colunas - *loc.*\r\n",
        "---"
      ]
    },
    {
      "cell_type": "code",
      "metadata": {
        "colab": {
          "base_uri": "https://localhost:8080/"
        },
        "id": "xzod1gSDSKi9",
        "outputId": "871e5057-bece-4e26-fd5f-896c2f584d8d"
      },
      "source": [
        "cols = ['price', 'id', 'date']\r\n",
        "print(data.loc[0:10, cols])"
      ],
      "execution_count": 66,
      "outputs": [
        {
          "output_type": "stream",
          "text": [
            "        price          id       date\n",
            "0    221900.0  7129300520 2014-10-13\n",
            "1    538000.0  6414100192 2014-12-09\n",
            "2    180000.0  5631500400 2015-02-25\n",
            "3    604000.0  2487200875 2014-12-09\n",
            "4    510000.0  1954400510 2015-02-18\n",
            "5   1225000.0  7237550310 2014-05-12\n",
            "6    257500.0  1321400060 2014-06-27\n",
            "7    291850.0  2008000270 2015-01-15\n",
            "8    229500.0  2414600126 2015-04-15\n",
            "9    323000.0  3793500160 2015-03-12\n",
            "10   662500.0  1736800520 2015-04-03\n"
          ],
          "name": "stdout"
        }
      ]
    },
    {
      "cell_type": "markdown",
      "metadata": {
        "id": "NVyrta3oUBzP"
      },
      "source": [
        "---\r\n",
        "##Seleção de dados - Indices Booleanos\r\n",
        "---"
      ]
    },
    {
      "cell_type": "code",
      "metadata": {
        "colab": {
          "base_uri": "https://localhost:8080/"
        },
        "id": "D_hpVXsJUJ2H",
        "outputId": "9cd61d2f-ef26-4797-d9e9-29b2407f915a"
      },
      "source": [
        "cols = [True, False, True, True, False, False, False, False, False, False, False, False, False, False, False, False, False, False, False, False, True]\r\n",
        "print(data.loc[0:10, cols])"
      ],
      "execution_count": 72,
      "outputs": [
        {
          "output_type": "stream",
          "text": [
            "            id      price  bedrooms  sqft_lot15\n",
            "0   7129300520   221900.0         3        5650\n",
            "1   6414100192   538000.0         3        7639\n",
            "2   5631500400   180000.0         2        8062\n",
            "3   2487200875   604000.0         4        5000\n",
            "4   1954400510   510000.0         3        7503\n",
            "5   7237550310  1225000.0         4      101930\n",
            "6   1321400060   257500.0         3        6819\n",
            "7   2008000270   291850.0         3        9711\n",
            "8   2414600126   229500.0         3        8113\n",
            "9   3793500160   323000.0         3        7570\n",
            "10  1736800520   662500.0         3        8925\n"
          ],
          "name": "stdout"
        }
      ]
    }
  ]
}