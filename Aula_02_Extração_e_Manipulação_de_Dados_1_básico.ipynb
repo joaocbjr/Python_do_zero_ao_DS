{
  "nbformat": 4,
  "nbformat_minor": 0,
  "metadata": {
    "colab": {
      "name": "Aula 02 -  Extração e Manipulação de Dados 1 - básico.ipynb",
      "provenance": [],
      "authorship_tag": "ABX9TyMuLlDmm5fXh+7DcaxhKkQY",
      "include_colab_link": true
    },
    "kernelspec": {
      "name": "python3",
      "display_name": "Python 3"
    }
  },
  "cells": [
    {
      "cell_type": "markdown",
      "metadata": {
        "id": "view-in-github",
        "colab_type": "text"
      },
      "source": [
        "<a href=\"https://colab.research.google.com/github/joaocbjr/Python_do_zero_ao_DS/blob/main/Aula_02_Extra%C3%A7%C3%A3o_e_Manipula%C3%A7%C3%A3o_de_Dados_1_b%C3%A1sico.ipynb\" target=\"_parent\"><img src=\"https://colab.research.google.com/assets/colab-badge.svg\" alt=\"Open In Colab\"/></a>"
      ]
    },
    {
      "cell_type": "markdown",
      "metadata": {
        "id": "QvWgBmx_VMAt"
      },
      "source": [
        "###Novas perguntas do CEO:\r\n",
        "\r\n",
        "16. Qual a data do imóvel mais antigo no portifólio?\r\n",
        "17. Quantos imóveis possuem o número máximo de andares?\r\n",
        "18. Criar uma classificação para os imóveis, separando-os em baixo e alto padrão, de acordo com preço.\r\n",
        "\r\n",
        "* Acima de RS 540.000 -> Alto padrão\r\n",
        "* Abaixo de R$ 540.000 -> Baixo padrão\r\n",
        "\r\n",
        "19. Gostaria de um relatório ordenado pelo preço e contendo as seguintes informações:\r\n",
        "\r\n",
        "* ID do imóvel\r\n",
        "* Data que o imóvel ficou disponível pra compra\r\n",
        "* O número de quartos\r\n",
        "* O tamanho total do terreno\r\n",
        "* O preço\r\n",
        "* A classificação do imóvel (alto e baixo padrão)\r\n",
        "\r\n",
        "20. Gostaria de um Mapa indicando onde as casas estão localizadas geograficamente.\r\n",
        "\r\n"
      ]
    },
    {
      "cell_type": "markdown",
      "metadata": {
        "id": "YmeJqOswcTRl"
      },
      "source": [
        "###Planejamento da solução:\r\n",
        "1. Produto Final - O que entregar? (Planilha, email, gráfico, modelo de ML...)\r\n",
        "*** Email + 02 anexos ***\r\n",
        "  * Email: \r\n",
        "    * Texto: Perguntas | Respostas\r\n",
        "  * Anexo:\r\n",
        "    * Um relatório em .csv\r\n",
        "    * A foto de um mapa em HTML\r\n",
        "\r\n",
        "2. Ferramenta - qual ferramenta usar?\r\n",
        "  * Python 3\r\n",
        "  * \r\n",
        "3. Processo - Como fazer?"
      ]
    }
  ]
}